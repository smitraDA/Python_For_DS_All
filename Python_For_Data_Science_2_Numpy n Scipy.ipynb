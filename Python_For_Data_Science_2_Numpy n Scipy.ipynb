{
 "cells": [
  {
   "cell_type": "markdown",
   "metadata": {},
   "source": [
    "## Python for Data Science: 2.Numpy n Scipy\n",
    "## Numpy is fundamental scientific computing package in      python\n",
    "## Scipy is built on Numpy for fast and convenient computation"
   ]
  },
  {
   "cell_type": "code",
   "execution_count": 1,
   "metadata": {},
   "outputs": [],
   "source": [
    "## N-Dimensional Array\n",
    "## Arrays allows to perfrom mathematical operations on whole blocks of data"
   ]
  },
  {
   "cell_type": "code",
   "execution_count": 2,
   "metadata": {},
   "outputs": [],
   "source": [
    "## Creating an array"
   ]
  },
  {
   "cell_type": "code",
   "execution_count": 3,
   "metadata": {},
   "outputs": [
    {
     "name": "stdout",
     "output_type": "stream",
     "text": [
      "[89.   56.34 76.   89.   98.  ]\n"
     ]
    }
   ],
   "source": [
    "import numpy as np\n",
    "scores = [89,56.34,76,89,98]\n",
    "first_arr =np.array(scores) #easiest way to create an array is to use array function\n",
    "print (first_arr)"
   ]
  },
  {
   "cell_type": "code",
   "execution_count": 5,
   "metadata": {},
   "outputs": [
    {
     "name": "stdout",
     "output_type": "stream",
     "text": [
      "float64\n"
     ]
    }
   ],
   "source": [
    "print (first_arr.dtype)"
   ]
  },
  {
   "cell_type": "code",
   "execution_count": 6,
   "metadata": {},
   "outputs": [],
   "source": [
    "## Dimentionality Reduction by PCA with coverience matrix,Eigenvalue,Eigenvector:Application of Numpy"
   ]
  },
  {
   "cell_type": "code",
   "execution_count": 7,
   "metadata": {},
   "outputs": [],
   "source": [
    "##PCA\n",
    "##PCA can be implemented very simply in Matlab or Python. \n",
    "##Given a dataset (as amatrix X), the covariance matrix can be found using the Matlab covariance function (cov(X)).\n",
    "##Then, the eigenvectors and eigenvalues of this covariance matrix are the principal component(vectors) \n",
    "##and principal values respectively. \n",
    "##The eigenvalues reflect the amount of variance accounted for by each principal component. \n",
    "##To perform dimensionalityreduction (e.g. down to 2 dimensions), we need to multiply X\n",
    "##by the two eigenvectors withthe largest corresponding eigenvalues."
   ]
  },
  {
   "cell_type": "code",
   "execution_count": 8,
   "metadata": {},
   "outputs": [],
   "source": [
    "import numpy as np\n",
    "# We assume that our data is of the shape [n_samples, n_features]"
   ]
  },
  {
   "cell_type": "code",
   "execution_count": 9,
   "metadata": {},
   "outputs": [],
   "source": [
    "def PCA(X, n_components=2):\n",
    "    cov_X = np.cov(X, rowvar=False)\n",
    "    eig_vals, eig_vecs = np.linalg.eig(cov_X)\n",
    "    eig_vals = np.absolute(eig_vals)\n",
    "    inds = np.flip(np.argsort(eig_vals))\n",
    "    return np.matmul(X,eig_vecs[:,inds[:n_components]]), eig_vals"
   ]
  },
  {
   "cell_type": "code",
   "execution_count": 10,
   "metadata": {},
   "outputs": [],
   "source": [
    "from scipy.io import loadmat"
   ]
  },
  {
   "cell_type": "code",
   "execution_count": null,
   "metadata": {},
   "outputs": [],
   "source": [
    "mnist = loadmat('mnist_train.mat')"
   ]
  },
  {
   "cell_type": "code",
   "execution_count": null,
   "metadata": {},
   "outputs": [],
   "source": [
    "X = mnist['train_X']\n",
    "Y = mnist['train_labels']"
   ]
  },
  {
   "cell_type": "code",
   "execution_count": 12,
   "metadata": {},
   "outputs": [],
   "source": [
    "#For the MNIST dataset, run your PCA function on the data.\n",
    "\n",
    "#Produce a plot of the data in the space spanned by the first two principal components. Colour each point by its class.\n"
   ]
  },
  {
   "cell_type": "code",
   "execution_count": null,
   "metadata": {},
   "outputs": [],
   "source": [
    "X_reduced, eig_vals = PCA(X,n_components=2)"
   ]
  },
  {
   "cell_type": "code",
   "execution_count": null,
   "metadata": {},
   "outputs": [],
   "source": [
    "X_reduced.shape"
   ]
  },
  {
   "cell_type": "code",
   "execution_count": 14,
   "metadata": {},
   "outputs": [],
   "source": [
    "import seaborn as sns\n",
    "import matplotlib.pyplot as plt"
   ]
  },
  {
   "cell_type": "code",
   "execution_count": null,
   "metadata": {},
   "outputs": [],
   "source": [
    "cY = Y[:,0]-1"
   ]
  },
  {
   "cell_type": "code",
   "execution_count": null,
   "metadata": {},
   "outputs": [],
   "source": [
    "sns.scatterplot(X_reduced[:,0],X_reduced[:,1], hue=cY, palette=sns.color_palette())"
   ]
  }
 ],
 "metadata": {
  "kernelspec": {
   "display_name": "Python 3",
   "language": "python",
   "name": "python3"
  },
  "language_info": {
   "codemirror_mode": {
    "name": "ipython",
    "version": 3
   },
   "file_extension": ".py",
   "mimetype": "text/x-python",
   "name": "python",
   "nbconvert_exporter": "python",
   "pygments_lexer": "ipython3",
   "version": "3.7.3"
  }
 },
 "nbformat": 4,
 "nbformat_minor": 2
}
